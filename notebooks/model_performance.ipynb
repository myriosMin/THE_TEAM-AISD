{
 "cells": [
  {
   "cell_type": "code",
   "execution_count": 2,
   "id": "4ea9fc89",
   "metadata": {},
   "outputs": [],
   "source": [
    "import pandas as pd\n",
    "import numpy as np\n",
    "from pathlib import Path\n",
    "import json\n",
    "import matplotlib.pyplot as plt\n",
    "import seaborn as sns"
   ]
  },
  {
   "cell_type": "code",
   "execution_count": 3,
   "id": "1b7a2e70",
   "metadata": {},
   "outputs": [],
   "source": [
    "import sys\n",
    "import os\n",
    "\n",
    "# File path to the src directory for both linux and windows\n",
    "# workaround for the issue of relative imports in Jupyter notebooks to import modules from src without using the full path\n",
    "src_path = os.path.abspath(\"../src\")\n",
    "if src_path not in sys.path:\n",
    "    sys.path.insert(0, src_path)"
   ]
  },
  {
   "cell_type": "code",
   "execution_count": 4,
   "id": "5d576928",
   "metadata": {},
   "outputs": [
    {
     "name": "stderr",
     "output_type": "stream",
     "text": [
      "INFO - Custom plot style set.\n"
     ]
    }
   ],
   "source": [
    "# Rerun this cell after making changes to the utils module\n",
    "from the_team.utils import etl, viz\n",
    "import importlib\n",
    "importlib.reload(etl)\n",
    "importlib.reload(viz)\n",
    "\n",
    "# Set custom plot style for consistency\n",
    "viz.set_plot_style()"
   ]
  },
  {
   "cell_type": "markdown",
   "id": "723862a9",
   "metadata": {},
   "source": [
    "# Base Models Comparison"
   ]
  },
  {
   "cell_type": "code",
   "execution_count": 5,
   "id": "9d7d5f5b",
   "metadata": {},
   "outputs": [],
   "source": [
    "rf_path = Path(\"../data/08_reporting/random_forest_model_metrics.json\")\n",
    "lr_path = Path(\"../data/08_reporting/logistic_model_metrics.json\")\n",
    "xg_path = Path(\"../data/08_reporting/xgboost_model_metrics.json\")\n",
    "lgbm_path = Path(\"../data/08_reporting/lightgbm_model_metrics.json\")\n"
   ]
  },
  {
   "cell_type": "code",
   "execution_count": 6,
   "id": "535e85c3",
   "metadata": {},
   "outputs": [
    {
     "name": "stdout",
     "output_type": "stream",
     "text": [
      "Available metrics: ['roc_auc', 'prc_auc', 'top_10_precision', 'classification_report', 'feature_importance', 'prc_curve', 'roc_curve']\n",
      "Available metrics: ['roc_auc', 'prc_auc', 'top_10_precision', 'classification_report', 'feature_importance', 'prc_curve', 'roc_curve']\n",
      "Available metrics: ['roc_auc', 'prc_auc', 'top_10_precision', 'classification_report', 'feature_importance', 'roc_curve', 'prc_curve']\n",
      "Available metrics: ['roc_auc', 'prc_auc', 'top_10_precision', 'classification_report', 'feature_importance', 'roc_curve', 'prc_curve']\n"
     ]
    }
   ],
   "source": [
    "rf = etl.load_model_metrics(rf_path)\n",
    "lr = etl.load_model_metrics(lr_path)\n",
    "xg = etl.load_model_metrics(xg_path)\n",
    "lgbm = etl.load_model_metrics(lgbm_path)\n",
    "models = {\"Random Forest\": rf, \"Logistic Regression\": lr, \"XGBoost\": xg, \"LightGBM\": lgbm}"
   ]
  },
  {
   "cell_type": "code",
   "execution_count": 7,
   "id": "7857e6b7",
   "metadata": {},
   "outputs": [
    {
     "data": {
      "image/png": "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