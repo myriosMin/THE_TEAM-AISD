{
 "cells": [
  {
   "cell_type": "code",
   "execution_count": null,
   "id": "0",
   "metadata": {},
   "outputs": [],
   "source": [
    "import pandas as pd\n",
    "from haversine import haversine, Unit\n",
    "df = pd.read_parquet(\"data/03_primary/mega_id_labels.parquet\")\n",
    "customers = pd.read_parquet(\"data/02_intermediate/clean_customers.parquet\")\n",
    "sellers = pd.read_parquet(\"data/02_intermediate/clean_sellers.parquet\")\n",
    "orders = pd.read_parquet(\"data/02_intermediate/clean_orders.parquet\")\n",
    "items = pd.read_parquet(\"data/02_intermediate/clean_items.parquet\")\n",
    "geolocation = pd.read_parquet(\"data/02_intermediate/clean_geolocation.parquet\")\n",
    "products = pd.read_parquet(\"data/02_intermediate/clean_products.parquet\")\n",
    "cs = pd.read_parquet(\"data/04_feature/distance_seller_stats.parquet\")\n",
    "cs.head()"
   ]
  },
  {
   "cell_type": "code",
   "execution_count": null,
   "id": "1",
   "metadata": {},
   "outputs": [],
   "source": [
    "df.info()"
   ]
  },
  {
   "cell_type": "code",
   "execution_count": null,
   "id": "2",
   "metadata": {},
   "outputs": [],
   "source": [
    "df.groupby(\"is_repeat_buyer\").agg({\"customer_unique_id\": \"nunique\"})"
   ]
  },
  {
   "cell_type": "code",
   "execution_count": null,
   "id": "3",
   "metadata": {},
   "outputs": [],
   "source": [
    "customers_loc = pd.merge(\n",
    "    customers,\n",
    "    geolocation,\n",
    "    left_on=\"customer_zip_code_prefix\",\n",
    "    right_on=\"geolocation_zip_code_prefix\",\n",
    "    how=\"left\"\n",
    ").rename(columns={\n",
    "    \"geolocation_lat\": \"customer_lat\",\n",
    "    \"geolocation_lng\": \"customer_lng\"\n",
    "})[[\"customer_unique_id\", \"customer_id\", \"customer_lat\", \"customer_lng\"]]\n",
    "\n",
    "customers_loc.head()"
   ]
  },
  {
   "cell_type": "code",
   "execution_count": null,
   "id": "4",
   "metadata": {},
   "outputs": [],
   "source": [
    "sellers_loc = pd.merge(\n",
    "    sellers,\n",
    "    geolocation,\n",
    "    left_on=\"seller_zip_code_prefix\",\n",
    "    right_on=\"geolocation_zip_code_prefix\",\n",
    "    how=\"left\"\n",
    ").rename(columns={\n",
    "    \"geolocation_lat\": \"seller_lat\",\n",
    "    \"geolocation_lng\": \"seller_lng\"\n",
    "})[[\"seller_id\", \"seller_lat\", \"seller_lng\"]]\n",
    "\n",
    "sellers_loc.head()"
   ]
  },
  {
   "cell_type": "code",
   "execution_count": null,
   "id": "5",
   "metadata": {},
   "outputs": [],
   "source": [
    "customers_loc.info()\n",
    "print('')\n",
    "sellers_loc.info()"
   ]
  },
  {
   "cell_type": "code",
   "execution_count": null,
   "id": "6",
   "metadata": {},
   "outputs": [],
   "source": [
    "# Drop customers with missing coordinates\n",
    "customers_loc = customers_loc.dropna(subset=[\"customer_lat\", \"customer_lng\"])\n",
    "\n",
    "# Drop sellers with missing coordinates\n",
    "sellers_loc = sellers_loc.dropna(subset=[\"seller_lat\", \"seller_lng\"])\n",
    "\n",
    "customers_loc.info()\n",
    "print('')\n",
    "sellers_loc.info()"
   ]
  },
  {
   "cell_type": "code",
   "execution_count": null,
   "id": "7",
   "metadata": {},
   "outputs": [],
   "source": [
    "order_details = pd.merge(\n",
    "    items,\n",
    "    orders,\n",
    "    on=\"order_id\",\n",
    "    how=\"left\"\n",
    ")[[\"order_id\", \"customer_id\", \"seller_id\"]]\n",
    "\n",
    "order_details.info()"
   ]
  },
  {
   "cell_type": "code",
   "execution_count": null,
   "id": "8",
   "metadata": {},
   "outputs": [],
   "source": [
    "order_details = order_details.dropna(subset=[\"customer_id\"])\n",
    "order_details.info()"
   ]
  },
  {
   "cell_type": "code",
   "execution_count": null,
   "id": "9",
   "metadata": {},
   "outputs": [],
   "source": [
    "# Step 1: Merge orders with items\n",
    "order_details = pd.merge(\n",
    "    items,\n",
    "    orders,\n",
    "    on=\"order_id\",\n",
    "    how=\"left\"\n",
    ")\n",
    "\n",
    "# Step 2: Merge with customers_loc (to get customer coordinates)\n",
    "order_details = pd.merge(\n",
    "    order_details,\n",
    "    customers_loc,\n",
    "    on=\"customer_id\",\n",
    "    how=\"left\"\n",
    ")\n",
    "\n",
    "# Step 3: Merge with sellers_loc (to get seller coordinates)\n",
    "order_details = pd.merge(\n",
    "    order_details,\n",
    "    sellers_loc,\n",
    "    on=\"seller_id\",\n",
    "    how=\"left\"\n",
    ")\n",
    "\n",
    "# Preview relevant fields\n",
    "order_details = order_details[[\n",
    "    \"order_id\", \"customer_id\", \"seller_id\",\n",
    "    \"customer_lat\", \"customer_lng\",\n",
    "    \"seller_lat\", \"seller_lng\"\n",
    "]]\n",
    "\n",
    "# order_details.head(10)\n",
    "order_details.info()\n"
   ]
  },
  {
   "cell_type": "code",
   "execution_count": null,
   "id": "10",
   "metadata": {},
   "outputs": [],
   "source": [
    "order_details = order_details.dropna(\n",
    "    subset=[\"customer_lat\", \"customer_lng\", \"seller_lat\", \"seller_lng\"]\n",
    ")\n",
    "order_details.info()"
   ]
  },
  {
   "cell_type": "code",
   "execution_count": null,
   "id": "11",
   "metadata": {},
   "outputs": [],
   "source": [
    "def compute_distance(row):\n",
    "    return haversine(\n",
    "        (row[\"customer_lat\"], row[\"customer_lng\"]),\n",
    "        (row[\"seller_lat\"], row[\"seller_lng\"]),\n",
    "        unit=Unit.KILOMETERS\n",
    "    )\n",
    "\n",
    "order_details[\"distance_km\"] = order_details.apply(compute_distance, axis=1)\n",
    "order_details = order_details[[\"order_id\", \"customer_id\", \"seller_id\", \"distance_km\"]]\n",
    "order_details.head()"
   ]
  },
  {
   "cell_type": "code",
   "execution_count": null,
   "id": "12",
   "metadata": {},
   "outputs": [],
   "source": [
    "# Step 7: Reduce to 1 row per order\n",
    "order_distances = order_details.drop_duplicates(\"order_id\")[[\"order_id\", \"distance_km\"]]\n",
    "order_distances.info()"
   ]
  },
  {
   "cell_type": "code",
   "execution_count": null,
   "id": "13",
   "metadata": {},
   "outputs": [],
   "source": [
    "# Step 8: Merge with base dataset to ensure all orders are included\n",
    "df = pd.merge(\n",
    "    df,\n",
    "    order_distances,\n",
    "    on=\"order_id\",\n",
    "    how=\"left\"\n",
    ")\n",
    "df.dropna(subset=[\"distance_km\"], inplace=True)\n",
    "df.info()\n"
   ]
  },
  {
   "cell_type": "code",
   "execution_count": null,
   "id": "14",
   "metadata": {},
   "outputs": [],
   "source": [
    "df.head()"
   ]
  },
  {
   "cell_type": "code",
   "execution_count": null,
   "id": "15",
   "metadata": {},
   "outputs": [],
   "source": [
    "# Step 1: Count repeat buyers per seller\n",
    "repeat_buyers = (\n",
    "    df[df[\"is_repeat_buyer\"] == True]\n",
    "    .groupby(\"seller_id\")[\"customer_unique_id\"]\n",
    "    .nunique()\n",
    "    .reset_index()\n",
    "    .rename(columns={\"customer_unique_id\": \"num_repeat_buyers\"})\n",
    ")\n"
   ]
  },
  {
   "cell_type": "code",
   "execution_count": null,
   "id": "16",
   "metadata": {},
   "outputs": [],
   "source": [
    "# step 2: Count total buyers per seller\n",
    "total_buyers = (\n",
    "    df.groupby(\"seller_id\")[\"customer_unique_id\"]\n",
    "    .nunique()\n",
    "    .reset_index()\n",
    "    .rename(columns={\"customer_unique_id\": \"num_unique_buyers\"})\n",
    ")\n"
   ]
  },
  {
   "cell_type": "code",
   "execution_count": null,
   "id": "17",
   "metadata": {},
   "outputs": [],
   "source": [
    "# Step 3: Merge & calculate repeat buyer ratio\n",
    "seller_repeat_stats = pd.merge(total_buyers, repeat_buyers, on=\"seller_id\", how=\"left\")\n",
    "seller_repeat_stats[\"num_repeat_buyers\"] = seller_repeat_stats[\"num_repeat_buyers\"].fillna(0)\n",
    "seller_repeat_stats[\"seller_repeat_buyer_rate\"] = (\n",
    "    seller_repeat_stats[\"num_repeat_buyers\"] / seller_repeat_stats[\"num_unique_buyers\"]\n",
    ")"
   ]
  },
  {
   "cell_type": "code",
   "execution_count": null,
   "id": "18",
   "metadata": {},
   "outputs": [],
   "source": [
    "seller_repeat_stats.head(10)"
   ]
  },
  {
   "cell_type": "code",
   "execution_count": null,
   "id": "19",
   "metadata": {},
   "outputs": [],
   "source": [
    "# Step 4: Merge this back into df\n",
    "df = pd.merge(df, seller_repeat_stats[[\"seller_id\", \"seller_repeat_buyer_rate\"]], on=\"seller_id\", how=\"left\")\n",
    "df.head(10)"
   ]
  },
  {
   "cell_type": "code",
   "execution_count": null,
   "id": "20",
   "metadata": {},
   "outputs": [],
   "source": [
    "# Count customer city frequencies\n",
    "top_cities = customers[\"customer_city\"].value_counts().nlargest(5).index.tolist()\n",
    "\n",
    "# Assign flag\n",
    "customers[\"high_density_customer_area\"] = customers[\"customer_city\"].isin(top_cities).astype(int)\n",
    "\n",
    "customers.head(10)"
   ]
  }
 ],
 "metadata": {
  "kernelspec": {
   "display_name": "Kedro-environment",
   "language": "python",
   "name": "python3"
  },
  "language_info": {
   "codemirror_mode": {
    "name": "ipython",
    "version": 3
   },
   "file_extension": ".py",
   "mimetype": "text/x-python",
   "name": "python",
   "nbconvert_exporter": "python",
   "pygments_lexer": "ipython3",
   "version": "3.10.16"
  }
 },
 "nbformat": 4,
 "nbformat_minor": 5
}
