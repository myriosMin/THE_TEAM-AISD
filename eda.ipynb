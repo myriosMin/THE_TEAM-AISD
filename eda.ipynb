{
 "cells": [
  {
   "cell_type": "markdown",
   "id": "c84a64ff",
   "metadata": {},
   "source": [
    "# Libraries"
   ]
  },
  {
   "cell_type": "code",
   "execution_count": 1,
   "id": "9adee484",
   "metadata": {},
   "outputs": [],
   "source": [
    "import pandas as pd\n",
    "import numpy as np\n",
    "import matplotlib.pyplot as plt\n",
    "import seaborn as sns\n",
    "from pathlib import Path\n",
    "import tqdm"
   ]
  },
  {
   "cell_type": "code",
   "execution_count": 2,
   "id": "feaf5d9c",
   "metadata": {},
   "outputs": [],
   "source": [
    "import sys\n",
    "import os\n",
    "\n",
    "# File path to the src directory for both linux and windows\n",
    "# workaround for the issue of relative imports in Jupyter notebooks to import modules from src without using the full path\n",
    "src_path = os.path.abspath(\"src\")\n",
    "if src_path not in sys.path:\n",
    "    sys.path.insert(0, src_path)"
   ]
  },
  {
   "cell_type": "code",
   "execution_count": 40,
   "id": "70ac5ba6",
   "metadata": {},
   "outputs": [
    {
     "name": "stdout",
     "output_type": "stream",
     "text": [
      "Custom plot style set.\n"
     ]
    }
   ],
   "source": [
    "# Rerun this cell after making changes to the utils module\n",
    "from the_team.utils import etl\n",
    "import importlib\n",
    "importlib.reload(etl)\n",
    "\n",
    "# Set custom plot style for consistency\n",
    "etl.set_plot_style()"
   ]
  },
  {
   "cell_type": "markdown",
   "id": "4d5e41d8",
   "metadata": {},
   "source": [
    "# Before Cleaning"
   ]
  },
  {
   "cell_type": "code",
   "execution_count": 4,
   "id": "af94f80c",
   "metadata": {},
   "outputs": [],
   "source": [
    "RAW_DIR = Path(\"data\") / \"01_raw\""
   ]
  },
  {
   "cell_type": "code",
   "execution_count": 20,
   "id": "d3d9f5e0",
   "metadata": {},
   "outputs": [],
   "source": [
    "# Load datasets\n",
    "customers = etl.load_csv(RAW_DIR / \"olist_customers_dataset.csv\")\n",
    "geolocation = etl.load_csv(RAW_DIR / \"olist_geolocation_dataset.csv\")\n",
    "items = etl.load_csv(RAW_DIR / \"olist_order_items_dataset.csv\")\n",
    "payments = etl.load_csv(RAW_DIR / \"olist_order_payments_dataset.csv\")\n",
    "reviews = etl.load_csv(RAW_DIR / \"olist_order_reviews_dataset.csv\")\n",
    "orders = etl.load_csv(RAW_DIR / \"olist_orders_dataset.csv\")\n",
    "products = etl.load_csv(RAW_DIR / \"olist_products_dataset.csv\")\n",
    "sellers = etl.load_csv(RAW_DIR / \"olist_sellers_dataset.csv\")\n",
    "translation = etl.load_csv(RAW_DIR / \"product_category_name_translation.csv\")"
   ]
  },
  {
   "cell_type": "markdown",
   "id": "2cfd7a41",
   "metadata": {},
   "source": [
    "### Geolocation-related datasets [Jin Bin]\n",
    "- customers.csv\n",
    "- geolocation.csv\n",
    "- sellers.csv"
   ]
  },
  {
   "cell_type": "code",
   "execution_count": null,
   "id": "1543e3a4",
   "metadata": {},
   "outputs": [],
   "source": []
  },
  {
   "cell_type": "markdown",
   "id": "1c25554e",
   "metadata": {},
   "source": [
    "### Review-related datasets [Habib]\n",
    "- review.csv\n",
    "- products.csv\n",
    "- translation.csv"
   ]
  },
  {
   "cell_type": "code",
   "execution_count": null,
   "id": "394bffe8",
   "metadata": {},
   "outputs": [],
   "source": []
  },
  {
   "cell_type": "markdown",
   "id": "cec99d1a",
   "metadata": {},
   "source": [
    "### Order-related datasets [Min]\n",
    "- items.csv\n",
    "- payments.csv\n",
    "- orders.csv"
   ]
  },
  {
   "cell_type": "markdown",
   "id": "9f5af68d",
   "metadata": {},
   "source": [
    "#### items.csv"
   ]
  },
  {
   "cell_type": "code",
   "execution_count": 21,
   "id": "7f3a3b90",
   "metadata": {},
   "outputs": [
    {
     "data": {
      "text/html": [
       "<div>\n",
       "<style scoped>\n",
       "    .dataframe tbody tr th:only-of-type {\n",
       "        vertical-align: middle;\n",
       "    }\n",
       "\n",
       "    .dataframe tbody tr th {\n",
       "        vertical-align: top;\n",
       "    }\n",
       "\n",
       "    .dataframe thead th {\n",
       "        text-align: right;\n",
       "    }\n",
       "</style>\n",
       "<table border=\"1\" class=\"dataframe\">\n",
       "  <thead>\n",
       "    <tr style=\"text-align: right;\">\n",
       "      <th></th>\n",
       "      <th>order_id</th>\n",
       "      <th>order_item_id</th>\n",
       "      <th>product_id</th>\n",
       "      <th>seller_id</th>\n",
       "      <th>shipping_limit_date</th>\n",
       "      <th>price</th>\n",
       "      <th>freight_value</th>\n",
       "    </tr>\n",
       "  </thead>\n",
       "  <tbody>\n",
       "    <tr>\n",
       "      <th>0</th>\n",
       "      <td>00010242fe8c5a6d1ba2dd792cb16214</td>\n",
       "      <td>1</td>\n",
       "      <td>4244733e06e7ecb4970a6e2683c13e61</td>\n",
       "      <td>48436dade18ac8b2bce089ec2a041202</td>\n",
       "      <td>2017-09-19 09:45:35</td>\n",
       "      <td>58.90</td>\n",
       "      <td>13.29</td>\n",
       "    </tr>\n",
       "    <tr>\n",
       "      <th>1</th>\n",
       "      <td>00018f77f2f0320c557190d7a144bdd3</td>\n",
       "      <td>1</td>\n",
       "      <td>e5f2d52b802189ee658865ca93d83a8f</td>\n",
       "      <td>dd7ddc04e1b6c2c614352b383efe2d36</td>\n",
       "      <td>2017-05-03 11:05:13</td>\n",
       "      <td>239.90</td>\n",
       "      <td>19.93</td>\n",
       "    </tr>\n",
       "    <tr>\n",
       "      <th>2</th>\n",
       "      <td>000229ec398224ef6ca0657da4fc703e</td>\n",
       "      <td>1</td>\n",
       "      <td>c777355d18b72b67abbeef9df44fd0fd</td>\n",
       "      <td>5b51032eddd242adc84c38acab88f23d</td>\n",
       "      <td>2018-01-18 14:48:30</td>\n",
       "      <td>199.00</td>\n",
       "      <td>17.87</td>\n",
       "    </tr>\n",
       "    <tr>\n",
       "      <th>3</th>\n",
       "      <td>00024acbcdf0a6daa1e931b038114c75</td>\n",
       "      <td>1</td>\n",
       "      <td>7634da152a4610f1595efa32f14722fc</td>\n",
       "      <td>9d7a1d34a5052409006425275ba1c2b4</td>\n",
       "      <td>2018-08-15 10:10:18</td>\n",
       "      <td>12.99</td>\n",
       "      <td>12.79</td>\n",
       "    </tr>\n",
       "    <tr>\n",
       "      <th>4</th>\n",
       "      <td>00042b26cf59d7ce69dfabb4e55b4fd9</td>\n",
       "      <td>1</td>\n",
       "      <td>ac6c3623068f30de03045865e4e10089</td>\n",
       "      <td>df560393f3a51e74553ab94004ba5c87</td>\n",
       "      <td>2017-02-13 13:57:51</td>\n",
       "      <td>199.90</td>\n",
       "      <td>18.14</td>\n",
       "    </tr>\n",
       "  </tbody>\n",
       "</table>\n",
       "</div>"
      ],
      "text/plain": [
       "                           order_id  order_item_id  \\\n",
       "0  00010242fe8c5a6d1ba2dd792cb16214              1   \n",
       "1  00018f77f2f0320c557190d7a144bdd3              1   \n",
       "2  000229ec398224ef6ca0657da4fc703e              1   \n",
       "3  00024acbcdf0a6daa1e931b038114c75              1   \n",
       "4  00042b26cf59d7ce69dfabb4e55b4fd9              1   \n",
       "\n",
       "                         product_id                         seller_id  \\\n",
       "0  4244733e06e7ecb4970a6e2683c13e61  48436dade18ac8b2bce089ec2a041202   \n",
       "1  e5f2d52b802189ee658865ca93d83a8f  dd7ddc04e1b6c2c614352b383efe2d36   \n",
       "2  c777355d18b72b67abbeef9df44fd0fd  5b51032eddd242adc84c38acab88f23d   \n",
       "3  7634da152a4610f1595efa32f14722fc  9d7a1d34a5052409006425275ba1c2b4   \n",
       "4  ac6c3623068f30de03045865e4e10089  df560393f3a51e74553ab94004ba5c87   \n",
       "\n",
       "   shipping_limit_date   price  freight_value  \n",
       "0  2017-09-19 09:45:35   58.90          13.29  \n",
       "1  2017-05-03 11:05:13  239.90          19.93  \n",
       "2  2018-01-18 14:48:30  199.00          17.87  \n",
       "3  2018-08-15 10:10:18   12.99          12.79  \n",
       "4  2017-02-13 13:57:51  199.90          18.14  "
      ]
     },
     "execution_count": 21,
     "metadata": {},
     "output_type": "execute_result"
    }
   ],
   "source": [
    "items.head()"
   ]
  },
  {
   "cell_type": "code",
   "execution_count": 22,
   "id": "eabf75ac",
   "metadata": {},
   "outputs": [
    {
     "name": "stdout",
     "output_type": "stream",
     "text": [
      "<class 'pandas.core.frame.DataFrame'>\n",
      "RangeIndex: 112650 entries, 0 to 112649\n",
      "Data columns (total 7 columns):\n",
      " #   Column               Non-Null Count   Dtype  \n",
      "---  ------               --------------   -----  \n",
      " 0   order_id             112650 non-null  object \n",
      " 1   order_item_id        112650 non-null  int64  \n",
      " 2   product_id           112650 non-null  object \n",
      " 3   seller_id            112650 non-null  object \n",
      " 4   shipping_limit_date  112650 non-null  object \n",
      " 5   price                112650 non-null  float64\n",
      " 6   freight_value        112650 non-null  float64\n",
      "dtypes: float64(2), int64(1), object(4)\n",
      "memory usage: 6.0+ MB\n"
     ]
    }
   ],
   "source": [
    "items.info()"
   ]
  },
  {
   "cell_type": "code",
   "execution_count": 23,
   "id": "20da7896",
   "metadata": {},
   "outputs": [
    {
     "name": "stdout",
     "output_type": "stream",
     "text": [
      "No null values found.\n",
      "No duplicates found.\n"
     ]
    }
   ],
   "source": [
    "# df info says no Null but still; Null and duplicate check\n",
    "etl.null_duplicate_check(items)"
   ]
  },
  {
   "cell_type": "code",
   "execution_count": null,
   "id": "30cca410",
   "metadata": {},
   "outputs": [
    {
     "name": "stdout",
     "output_type": "stream",
     "text": [
      "No null values found.\n",
      "Duplicates found.\n",
      "9.08% or 10225 rows are complete duplicates\n"
     ]
    }
   ],
   "source": [
    "# 1. shipping_limit_date has wrong data type.\n",
    "items[\"shipping_limit_date\"] = pd.to_datetime(items[\"shipping_limit_date\"], format=\"%Y-%m-%d %H:%M:%S\")\n",
    "assert items[\"shipping_limit_date\"].dtype == \"datetime64[ns]\", \"shipping_limit_date should be datetime64[ns]\"\n",
    "\n",
    "# 2. order_id has wrong data type, but it's not useful for our business goal since it's just indexing items in an order.\n",
    "# Thus, we can drop it.\n",
    "items.drop(columns=[\"order_item_id\"], inplace=True)\n",
    "\n",
    "# Some duplicates are expected after dropping order_item_id, since there can be multiple items in an order.\n",
    "# Left untreated as these duplicates are identifiable and workable with the order_id.\n",
    "etl.null_duplicate_check(items)"
   ]
  },
  {
   "cell_type": "code",
   "execution_count": 25,
   "id": "c542249b",
   "metadata": {},
   "outputs": [
    {
     "data": {
      "text/html": [
       "<div>\n",
       "<style scoped>\n",
       "    .dataframe tbody tr th:only-of-type {\n",
       "        vertical-align: middle;\n",
       "    }\n",
       "\n",
       "    .dataframe tbody tr th {\n",
       "        vertical-align: top;\n",
       "    }\n",
       "\n",
       "    .dataframe thead th {\n",
       "        text-align: right;\n",
       "    }\n",
       "</style>\n",
       "<table border=\"1\" class=\"dataframe\">\n",
       "  <thead>\n",
       "    <tr style=\"text-align: right;\">\n",
       "      <th></th>\n",
       "      <th>shipping_limit_date</th>\n",
       "      <th>price</th>\n",
       "      <th>freight_value</th>\n",
       "    </tr>\n",
       "  </thead>\n",
       "  <tbody>\n",
       "    <tr>\n",
       "      <th>count</th>\n",
       "      <td>112650</td>\n",
       "      <td>112650.000000</td>\n",
       "      <td>112650.000000</td>\n",
       "    </tr>\n",
       "    <tr>\n",
       "      <th>mean</th>\n",
       "      <td>2018-01-07 15:36:52.192685312</td>\n",
       "      <td>120.653739</td>\n",
       "      <td>19.990320</td>\n",
       "    </tr>\n",
       "    <tr>\n",
       "      <th>min</th>\n",
       "      <td>2016-09-19 00:15:34</td>\n",
       "      <td>0.850000</td>\n",
       "      <td>0.000000</td>\n",
       "    </tr>\n",
       "    <tr>\n",
       "      <th>25%</th>\n",
       "      <td>2017-09-20 20:57:27.500000</td>\n",
       "      <td>39.900000</td>\n",
       "      <td>13.080000</td>\n",
       "    </tr>\n",
       "    <tr>\n",
       "      <th>50%</th>\n",
       "      <td>2018-01-26 13:59:35</td>\n",
       "      <td>74.990000</td>\n",
       "      <td>16.260000</td>\n",
       "    </tr>\n",
       "    <tr>\n",
       "      <th>75%</th>\n",
       "      <td>2018-05-10 14:34:00.750000128</td>\n",
       "      <td>134.900000</td>\n",
       "      <td>21.150000</td>\n",
       "    </tr>\n",
       "    <tr>\n",
       "      <th>max</th>\n",
       "      <td>2020-04-09 22:35:08</td>\n",
       "      <td>6735.000000</td>\n",
       "      <td>409.680000</td>\n",
       "    </tr>\n",
       "    <tr>\n",
       "      <th>std</th>\n",
       "      <td>NaN</td>\n",
       "      <td>183.633928</td>\n",
       "      <td>15.806405</td>\n",
       "    </tr>\n",
       "  </tbody>\n",
       "</table>\n",
       "</div>"
      ],
      "text/plain": [
       "                 shipping_limit_date          price  freight_value\n",
       "count                         112650  112650.000000  112650.000000\n",
       "mean   2018-01-07 15:36:52.192685312     120.653739      19.990320\n",
       "min              2016-09-19 00:15:34       0.850000       0.000000\n",
       "25%       2017-09-20 20:57:27.500000      39.900000      13.080000\n",
       "50%              2018-01-26 13:59:35      74.990000      16.260000\n",
       "75%    2018-05-10 14:34:00.750000128     134.900000      21.150000\n",
       "max              2020-04-09 22:35:08    6735.000000     409.680000\n",
       "std                              NaN     183.633928      15.806405"
      ]
     },
     "execution_count": 25,
     "metadata": {},
     "output_type": "execute_result"
    }
   ],
   "source": [
    "# Check distribution of numeric columns\n",
    "items.describe()"
   ]
  },
  {
   "cell_type": "markdown",
   "id": "78c6f53f",
   "metadata": {},
   "source": [
    "- A large gap between the 75th percentile (Q3) and the maximum indicates that there are high-value outliers. \n",
    "- Olist dataset distributor mentioned (in Kaggle) that the data is from 2016 to 2018."
   ]
  },
  {
   "cell_type": "code",
   "execution_count": 30,
   "id": "08e5c6e8",
   "metadata": {},
   "outputs": [
    {
     "data": {
      "image/png": "[encoded data removed]",
      "text/plain": [
       "<Figure size 1200x500 with 2 Axes>"
      ]
     },
     "metadata": {},
     "output_type": "display_data"
    }
   ],
   "source": [
    "# 3. Drop rows not within 2016-2018\n",
    "items = items[items[\"shipping_limit_date\"].dt.year.isin([2016, 2017, 2018])]\n",
    "\n",
    "# Plot distribution of numeric columns\n",
    "etl.plot_numeric_distribution(items)"
   ]
  },
  {
   "cell_type": "markdown",
   "id": "f35c3cce",
   "metadata": {},
   "source": [
    "- Both price & freight_value columns show strong right-skewed distributions with a large number of high-value outliers, which is expected as people mostly buy FMCGs (with low cost) from online, not high-end products.\n",
    "- Right-skewed price means the item is expensive while right-skewed freight_value means either the customer lives far away from sellers or the item is physically huge; this can be cross-checked later with geolocation and product data."
   ]
  },
  {
   "cell_type": "code",
   "execution_count": 37,
   "id": "e24cd234",
   "metadata": {},
   "outputs": [
    {
     "name": "stdout",
     "output_type": "stream",
     "text": [
      "99.9% of price is $2110.0.\n",
      "99.9% of freight_value is $175.59.\n"
     ]
    }
   ],
   "source": [
    "price_99p = items['price'].quantile(0.999)\n",
    "print(f\"99.9% of price is ${price_99p}.\")\n",
    "freight_99p = items['freight_value'].quantile(0.999)\n",
    "print(f\"99.9% of freight_value is ${freight_99p:.2f}.\")"
   ]
  },
  {
   "cell_type": "markdown",
   "id": "708ab91b",
   "metadata": {},
   "source": [
    "High values in both price and freight_value are important as they may suggest:\n",
    "- People who bought expensive quality producuts are less likely to buy again. \n",
    "- People who have to pay high freight_value are less likely to buy again. \n",
    "But, capturing 99.9% of current customers should be representative enough. "
   ]
  },
  {
   "cell_type": "code",
   "execution_count": 41,
   "id": "2e42617f",
   "metadata": {},
   "outputs": [],
   "source": [
    "# 4. Remove outliers\n",
    "items['price'] = etl.cap_outliers(items['price'], min_cap=False, max_cap=99.9)\n",
    "items['freight_value'] = etl.cap_outliers(items['freight_value'], min_cap=False, max_cap=99.9)"
   ]
  },
  {
   "cell_type": "code",
   "execution_count": 42,
   "id": "432999f0",
   "metadata": {},
   "outputs": [],
   "source": [
    "# 5. Flag high values for the model to learn that a price/freight is unusually high\n",
    "items['price_high'] = items['price'] > price_99p\n",
    "items['freight_value_high'] = items['freight_value'] > freight_99p"
   ]
  },
  {
   "cell_type": "markdown",
   "id": "f079be21",
   "metadata": {},
   "source": [
    "#### orders.csv"
   ]
  },
  {
   "cell_type": "markdown",
   "id": "b827c6da",
   "metadata": {},
   "source": []
  }
 ],
 "metadata": {
  "kernelspec": {
   "display_name": "kedro",
   "language": "python",
   "name": "python3"
  },
  "language_info": {
   "codemirror_mode": {
    "name": "ipython",
    "version": 3
   },
   "file_extension": ".py",
   "mimetype": "text/x-python",
   "name": "python",
   "nbconvert_exporter": "python",
   "pygments_lexer": "ipython3",
   "version": "3.10.16"
  }
 },
 "nbformat": 4,
 "nbformat_minor": 5
}
