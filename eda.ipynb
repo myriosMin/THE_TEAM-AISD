{
 "cells": [
  {
   "cell_type": "markdown",
   "id": "c84a64ff",
   "metadata": {},
   "source": [
    "# Libraries"
   ]
  },
  {
   "cell_type": "code",
   "execution_count": 4,
   "id": "9adee484",
   "metadata": {},
   "outputs": [],
   "source": [
    "import pandas as pd\n",
    "import numpy as np\n",
    "import matplotlib.pyplot as plt\n",
    "import seaborn as sns\n",
    "from pathlib import Path\n",
    "import tqdm"
   ]
  },
  {
   "cell_type": "code",
   "execution_count": 5,
   "id": "feaf5d9c",
   "metadata": {},
   "outputs": [],
   "source": [
    "import sys\n",
    "import os\n",
    "\n",
    "# File path to the src directory for both linux and windows\n",
    "# workaround for the issue of relative imports in Jupyter notebooks to import modules from src without using the full path\n",
    "src_path = os.path.abspath(\"src\")\n",
    "if src_path not in sys.path:\n",
    "    sys.path.insert(0, src_path)"
   ]
  },
  {
   "cell_type": "code",
   "execution_count": 9,
   "id": "70ac5ba6",
   "metadata": {},
   "outputs": [
    {
     "data": {
      "text/plain": [
       "<module 'the_team.utils.etl' from '/Users/myrios/Desktop/NYP/Year3/AISD/the-team/src/the_team/utils/etl.py'>"
      ]
     },
     "execution_count": 9,
     "metadata": {},
     "output_type": "execute_result"
    }
   ],
   "source": [
    "# Rerun this cell after making changes to the utils module\n",
    "from the_team.utils import etl\n",
    "import importlib\n",
    "importlib.reload(etl)"
   ]
  },
  {
   "cell_type": "markdown",
   "id": "4d5e41d8",
   "metadata": {},
   "source": [
    "# Before Cleaning"
   ]
  },
  {
   "cell_type": "code",
   "execution_count": 7,
   "id": "af94f80c",
   "metadata": {},
   "outputs": [],
   "source": [
    "RAW_DIR = Path(\"data\") / \"01_raw\""
   ]
  },
  {
   "cell_type": "code",
   "execution_count": 11,
   "id": "d3d9f5e0",
   "metadata": {},
   "outputs": [
    {
     "name": "stdout",
     "output_type": "stream",
     "text": [
      "File olist_geolocation_dataset.csv not found. Downloading from Kaggle...\n",
      "Downloading from https://www.kaggle.com/api/v1/datasets/download/olistbr/brazilian-ecommerce?dataset_version_number=2&file_name=olist_geolocation_dataset.csv...\n"
     ]
    },
    {
     "name": "stderr",
     "output_type": "stream",
     "text": [
      "100%|██████████| 14.9M/14.9M [00:01<00:00, 8.12MB/s]"
     ]
    },
    {
     "name": "stdout",
     "output_type": "stream",
     "text": [
      "Extracting zip of olist_geolocation_dataset.csv...\n"
     ]
    },
    {
     "name": "stderr",
     "output_type": "stream",
     "text": [
      "\n"
     ]
    },
    {
     "name": "stdout",
     "output_type": "stream",
     "text": [
      "File olist_geolocation_dataset.csv downloaded successfully and loaded into data/01_raw.\n"
     ]
    }
   ],
   "source": [
    "# Load datasets\n",
    "customers = etl.